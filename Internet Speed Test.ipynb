{
 "cells": [
  {
   "cell_type": "markdown",
   "id": "872a9f2c-9182-41be-8179-106ebe5d109d",
   "metadata": {},
   "source": [
    "# Internet Speed Test"
   ]
  },
  {
   "cell_type": "code",
   "execution_count": 3,
   "id": "ae4400e7-119e-4b5e-90e9-42065311f1fd",
   "metadata": {},
   "outputs": [
    {
     "name": "stdout",
     "output_type": "stream",
     "text": [
      "Defaulting to user installation because normal site-packages is not writeable\n",
      "Requirement already satisfied: speedtest-cli in c:\\users\\dell\\appdata\\roaming\\python\\python312\\site-packages (2.1.3)\n"
     ]
    }
   ],
   "source": [
    "from tkinter import *\n",
    "!pip install speedtest-cli\n",
    "import speedtest"
   ]
  },
  {
   "cell_type": "code",
   "execution_count": null,
   "id": "2b9e9a5f-970d-4c71-b1e9-5745ebfad09b",
   "metadata": {},
   "outputs": [],
   "source": [
    "# Import Required Libraries\n",
    "from tkinter import *\n",
    "import speedtest\n",
    "\n",
    "# Function to Check Speed\n",
    "def speedcheck():\n",
    "    st = speedtest.Speedtest()  # Renamed variable to avoid conflict\n",
    "    st.get_best_server()        # Corrected method name (not get_servers())\n",
    "    \n",
    "    download_speed = str(round(st.download() / (10**6), 2)) + \" Mbps\"  # Added unit\n",
    "    upload_speed = str(round(st.upload() / (10**6), 2)) + \" Mbps\"      # Added unit\n",
    "    \n",
    "    lab_down.config(text=download_speed)\n",
    "    lab_up.config(text=upload_speed)\n",
    "\n",
    "# Initialize Tkinter Window\n",
    "root = Tk()  # Renamed from \"sp\" to avoid variable conflict\n",
    "root.title(\"Internet Speed Test\")\n",
    "root.geometry(\"500x650\")  # Corrected geometry string (use \"x\" not *)\n",
    "root.config(bg=\"blue\")\n",
    "\n",
    "# Labels\n",
    "Label(root, text=\"Internet Speed Test\", font=(\"Times New Roman\", 30, \"bold\"), bg=\"blue\", fg=\"yellow\").place(x=60, y=40, height=50, width=380)\n",
    "Label(root, text=\"Download Speed\", font=(\"Times New Roman\", 30, \"bold\"), bg=\"blue\", fg=\"white\").place(x=60, y=130, height=50, width=380)\n",
    "lab_down = Label(root, text=\"00\", font=(\"Times New Roman\", 30, \"bold\"), bg=\"blue\", fg=\"white\")\n",
    "lab_down.place(x=60, y=200, height=50, width=380)\n",
    "Label(root, text=\"Upload Speed\", font=(\"Times New Roman\", 30, \"bold\"), bg=\"blue\", fg=\"white\").place(x=60, y=290, height=50, width=380)\n",
    "lab_up = Label(root, text=\"00\", font=(\"Times New Roman\", 30, \"bold\"), bg=\"blue\", fg=\"white\")\n",
    "lab_up.place(x=60, y=360, height=50, width=380)\n",
    "\n",
    "# Speed Test Button\n",
    "Button(root, text=\"Check Speed\", font=(\"Times New Roman\", 20, \"bold\"), relief=\"raised\", bg=\"red\", command=speedcheck).place(x=60, y=460, height=50, width=380)\n",
    "\n",
    "root.mainloop()"
   ]
  },
  {
   "cell_type": "code",
   "execution_count": null,
   "id": "c6727d48-bac3-4bff-a519-9f5be6f1f979",
   "metadata": {},
   "outputs": [],
   "source": []
  }
 ],
 "metadata": {
  "kernelspec": {
   "display_name": "Python 3 (ipykernel)",
   "language": "python",
   "name": "python3"
  },
  "language_info": {
   "codemirror_mode": {
    "name": "ipython",
    "version": 3
   },
   "file_extension": ".py",
   "mimetype": "text/x-python",
   "name": "python",
   "nbconvert_exporter": "python",
   "pygments_lexer": "ipython3",
   "version": "3.12.7"
  }
 },
 "nbformat": 4,
 "nbformat_minor": 5
}
