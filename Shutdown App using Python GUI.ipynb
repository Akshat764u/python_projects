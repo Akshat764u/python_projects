{
 "cells": [
  {
   "cell_type": "markdown",
   "id": "e7cd0961-780e-4f93-b40a-9c3a1a16c564",
   "metadata": {},
   "source": [
    "# Shutdown App using Python"
   ]
  },
  {
   "cell_type": "code",
   "execution_count": 5,
   "id": "72b6fe5b-9f54-4c45-a5dd-89fc5583307e",
   "metadata": {},
   "outputs": [],
   "source": [
    "from tkinter import *\n",
    "import os\n",
    "\n",
    "# Create main window\n",
    "st = Tk()\n",
    "st.title(\"Shutdown Controller\")\n",
    "st.geometry(\"400x200\")\n",
    "\n",
    "# Function to display file location\n",
    "def show_file_location():\n",
    "    script_path = os.path.abspath(__file__)\n",
    "    file_location_label.config(text=f\"Script location: {script_path}\")\n",
    "\n",
    "# Function to handle system commands\n",
    "def shutdown():\n",
    "    os.system(\"shutdown /s /t 1\")  # Shutdown after 1 second\n",
    "\n",
    "def restart():\n",
    "    os.system(\"shutdown /r /t 1\")  # Restart after 1 second\n",
    "\n",
    "def cancel_shutdown():\n",
    "    os.system(\"shutdown /a\")  # Cancel shutdown\n",
    "\n",
    "# Create GUI elements\n",
    "file_location_label = Label(st, text=\"\", wraplength=380)\n",
    "file_location_label.pack(pady=10)\n",
    "\n",
    "show_location_btn = Button(st, text=\"Show File Location\", command=show_file_location)\n",
    "show_location_btn.pack(pady=5)\n",
    "\n",
    "shutdown_btn = Button(st, text=\"Shutdown\", command=shutdown, bg=\"red\", fg=\"white\")\n",
    "shutdown_btn.pack(pady=5)\n",
    "\n",
    "restart_btn = Button(st, text=\"Restart\", command=restart, bg=\"orange\")\n",
    "restart_btn.pack(pady=5)\n",
    "\n",
    "cancel_btn = Button(st, text=\"Cancel Shutdown\", command=cancel_shutdown, bg=\"green\", fg=\"white\")\n",
    "cancel_btn.pack(pady=5)\n",
    "\n",
    "# Start main loop\n",
    "st.mainloop()"
   ]
  },
  {
   "cell_type": "code",
   "execution_count": null,
   "id": "518d2469-92c5-4aae-96a5-c35c94a5a7fe",
   "metadata": {},
   "outputs": [],
   "source": [
    "show_file_location()"
   ]
  },
  {
   "cell_type": "code",
   "execution_count": null,
   "id": "66a30585-a6ea-4b2c-a501-133d3bfde05b",
   "metadata": {},
   "outputs": [],
   "source": []
  },
  {
   "cell_type": "code",
   "execution_count": null,
   "id": "86e09245-cf42-4a88-a245-932fc48712b2",
   "metadata": {},
   "outputs": [],
   "source": [
    "from tkinter import *\n",
    "import os\n",
    "\n",
    "def restart():\n",
    "    os.system(\"shutdown /r /t 1\")\n",
    "def restart_time():\n",
    "    os.system(\"shutdown /r /t 20\")\n",
    "def logout():\n",
    "    os.system(\"shutdown -1\")\n",
    "def shutdown():\n",
    "    os.system(\"shutdown /s /t 1\")\n",
    "\n",
    "# Create main window\n",
    "st = Tk()\n",
    "st.title(\"ShutDown App\")\n",
    "st.geometry(\"500x500\")\n",
    "st.config(bg=\"Blue\")\n",
    "\n",
    "# Function to display file location\n",
    "def show_file_location():\n",
    "    script_path = os.path.abspath(__file__)\n",
    "    file_location_label.config(text=f\"Script location: {script_path}\")\n",
    "\n",
    "# Function to handle system commands\n",
    "r_button = Button(st,text=\"Restart\",font=(\"Time New Roman\",20,\"bold\"),\n",
    "    relief=RAISED,cursor=\"plus\",command=restart)\n",
    "r_button.place(x=150,y=60,height=50,width=200)\n",
    "\n",
    "rt_button = Button(st,text=\"Restart Time\",font=(\"Time New Roman\",20,\"bold\"),\n",
    "    relief=RAISED,cursor=\"plus\",command=restart_time)\n",
    "rt_button.place(x=150,y=170,height=50,width=200)\n",
    "\n",
    "lg_button = Button(st,text=\"Log-Out\",font=(\"Time New Roman\",20,\"bold\"),\n",
    "    relief=RAISED,cursor=\"plus\",command=logout)\n",
    "lg_button.place(x=150,y=270,height=50,width=200)\n",
    "\n",
    "st_button = Button(st,text=\"ShutDown\",font=(\"Time New Roman\",20,\"bold\"),\n",
    "    relief=RAISED,cursor=\"plus\",command=shutdown)\n",
    "st_button.place(x=150,y=370,height=50,width=200)\n",
    "\n",
    "\n",
    "st.mainloop()"
   ]
  },
  {
   "cell_type": "code",
   "execution_count": null,
   "id": "5b64274f-93d5-4e3f-87f3-fdefce629c67",
   "metadata": {},
   "outputs": [],
   "source": []
  },
  {
   "cell_type": "code",
   "execution_count": null,
   "id": "94634709-bb75-4656-840c-fd868e28a47b",
   "metadata": {},
   "outputs": [],
   "source": []
  }
 ],
 "metadata": {
  "kernelspec": {
   "display_name": "Python 3 (ipykernel)",
   "language": "python",
   "name": "python3"
  },
  "language_info": {
   "codemirror_mode": {
    "name": "ipython",
    "version": 3
   },
   "file_extension": ".py",
   "mimetype": "text/x-python",
   "name": "python",
   "nbconvert_exporter": "python",
   "pygments_lexer": "ipython3",
   "version": "3.12.7"
  }
 },
 "nbformat": 4,
 "nbformat_minor": 5
}
