{
 "cells": [
  {
   "cell_type": "code",
   "execution_count": 3,
   "id": "56b9b09b-26bc-4e5b-a093-ed2277afd760",
   "metadata": {},
   "outputs": [
    {
     "name": "stdin",
     "output_type": "stream",
     "text": [
      "Enter your Email aksha\n"
     ]
    },
    {
     "name": "stdout",
     "output_type": "stream",
     "text": [
      "Wrong Email 1\n"
     ]
    }
   ],
   "source": [
    "email = input(\"Enter your Email\") #minimum 6 charcter need for creating a gmail ID i.e - g@g.in , akshat.singh4u@gmail.com\n",
    "k,j,d=0,0,0\n",
    "if len(email)>=6: #1\n",
    "    if email[0].isalpha(): #2\n",
    "        if (\"@\" in email) and (email.count(\"@\")==1): #3\n",
    "            if (email[-4]==\".\") ^ (email[-3]==\".\"): #4\n",
    "                for i in email:\n",
    "                    if i ==i.isspace():\n",
    "                        k=1\n",
    "                    elif i.isalpha():\n",
    "                        if i==i.upper(): #w -- W==w\n",
    "                            j=1\n",
    "                    elif i.isdigit():\n",
    "                        continue\n",
    "                    elif i==\"_\" or i==\".\" or i==\"@\":\n",
    "                        continue\n",
    "                    else:\n",
    "                        d=1\n",
    "                if k==1 or j==1 or d==1:\n",
    "                    print(\"Wrong Email 5\")\n",
    "                else:\n",
    "                    print(\"Right Email\")\n",
    "            else:\n",
    "                print(\"Wrong Email 4\")\n",
    "        else:\n",
    "            print(\"Wrong Email 3\")\n",
    "    else:\n",
    "        print(\"Wrong Email 2\")\n",
    "else:\n",
    "    print(\"Wrong Email 1\")"
   ]
  },
  {
   "cell_type": "code",
   "execution_count": 4,
   "id": "17742398-0c5d-4ae6-b3a9-c2a27a722695",
   "metadata": {},
   "outputs": [
    {
     "name": "stdin",
     "output_type": "stream",
     "text": [
      "Enter your Email 1akshat.singh4u@gmail.com\n"
     ]
    },
    {
     "name": "stdout",
     "output_type": "stream",
     "text": [
      "Wrong Email 2\n"
     ]
    }
   ],
   "source": [
    "email = input(\"Enter your Email\") #minimum 6 charcter need for creating a gmail ID i.e - g@g.in , akshat.singh4u@gmail.com\n",
    "k,j,d=0,0,0\n",
    "if len(email)>=6: #1\n",
    "    if email[0].isalpha(): #2\n",
    "        if (\"@\" in email) and (email.count(\"@\")==1): #3\n",
    "            if (email[-4]==\".\") ^ (email[-3]==\".\"): #4\n",
    "                for i in email:\n",
    "                    if i ==i.isspace():\n",
    "                        k=1\n",
    "                    elif i.isalpha():\n",
    "                        if i==i.upper(): #w -- W==w\n",
    "                            j=1\n",
    "                    elif i.isdigit():\n",
    "                        continue\n",
    "                    elif i==\"_\" or i==\".\" or i==\"@\":\n",
    "                        continue\n",
    "                    else:\n",
    "                        d=1\n",
    "                if k==1 or j==1 or d==1:\n",
    "                    print(\"Wrong Email 5\")\n",
    "                else:\n",
    "                    print(\"Right Email\")\n",
    "            else:\n",
    "                print(\"Wrong Email 4\")\n",
    "        else:\n",
    "            print(\"Wrong Email 3\")\n",
    "    else:\n",
    "        print(\"Wrong Email 2\")\n",
    "else:\n",
    "    print(\"Wrong Email 1\")"
   ]
  },
  {
   "cell_type": "code",
   "execution_count": 5,
   "id": "66ae46a6-d527-40a6-a8c9-2e533e5e8624",
   "metadata": {},
   "outputs": [
    {
     "name": "stdin",
     "output_type": "stream",
     "text": [
      "Enter your Email akshat@singh4u@gmail.com\n"
     ]
    },
    {
     "name": "stdout",
     "output_type": "stream",
     "text": [
      "Wrong Email 3\n"
     ]
    }
   ],
   "source": [
    "email = input(\"Enter your Email\") #minimum 6 charcter need for creating a gmail ID i.e - g@g.in , akshat.singh4u@gmail.com\n",
    "k,j,d=0,0,0\n",
    "if len(email)>=6: #1\n",
    "    if email[0].isalpha(): #2\n",
    "        if (\"@\" in email) and (email.count(\"@\")==1): #3\n",
    "            if (email[-4]==\".\") ^ (email[-3]==\".\"): #4\n",
    "                for i in email:\n",
    "                    if i ==i.isspace():\n",
    "                        k=1\n",
    "                    elif i.isalpha():\n",
    "                        if i==i.upper(): #w -- W==w\n",
    "                            j=1\n",
    "                    elif i.isdigit():\n",
    "                        continue\n",
    "                    elif i==\"_\" or i==\".\" or i==\"@\":\n",
    "                        continue\n",
    "                    else:\n",
    "                        d=1\n",
    "                if k==1 or j==1 or d==1:\n",
    "                    print(\"Wrong Email 5\")\n",
    "                else:\n",
    "                    print(\"Right Email\")\n",
    "            else:\n",
    "                print(\"Wrong Email 4\")\n",
    "        else:\n",
    "            print(\"Wrong Email 3\")\n",
    "    else:\n",
    "        print(\"Wrong Email 2\")\n",
    "else:\n",
    "    print(\"Wrong Email 1\")"
   ]
  },
  {
   "cell_type": "code",
   "execution_count": 6,
   "id": "e7c6f3e0-4fd2-4ee2-8077-1921b2eb46b0",
   "metadata": {},
   "outputs": [
    {
     "name": "stdin",
     "output_type": "stream",
     "text": [
      "Enter your Email akshat.singh4u@gmail.c\n"
     ]
    },
    {
     "name": "stdout",
     "output_type": "stream",
     "text": [
      "Wrong Email 4\n"
     ]
    }
   ],
   "source": [
    "email = input(\"Enter your Email\") #minimum 6 charcter need for creating a gmail ID i.e - g@g.in , akshat.singh4u@gmail.com\n",
    "k,j,d=0,0,0\n",
    "if len(email)>=6: #1\n",
    "    if email[0].isalpha(): #2\n",
    "        if (\"@\" in email) and (email.count(\"@\")==1): #3\n",
    "            if (email[-4]==\".\") ^ (email[-3]==\".\"): #4\n",
    "                for i in email:\n",
    "                    if i ==i.isspace():\n",
    "                        k=1\n",
    "                    elif i.isalpha():\n",
    "                        if i==i.upper(): #w -- W==w\n",
    "                            j=1\n",
    "                    elif i.isdigit():\n",
    "                        continue\n",
    "                    elif i==\"_\" or i==\".\" or i==\"@\":\n",
    "                        continue\n",
    "                    else:\n",
    "                        d=1\n",
    "                if k==1 or j==1 or d==1:\n",
    "                    print(\"Wrong Email 5\")\n",
    "                else:\n",
    "                    print(\"Right Email\")\n",
    "            else:\n",
    "                print(\"Wrong Email 4\")\n",
    "        else:\n",
    "            print(\"Wrong Email 3\")\n",
    "    else:\n",
    "        print(\"Wrong Email 2\")\n",
    "else:\n",
    "    print(\"Wrong Email 1\")"
   ]
  },
  {
   "cell_type": "code",
   "execution_count": 7,
   "id": "276458b3-d037-4033-8982-267fb07e427a",
   "metadata": {},
   "outputs": [
    {
     "name": "stdin",
     "output_type": "stream",
     "text": [
      "Enter your Email akshat singh4u@gmail.com\n"
     ]
    },
    {
     "name": "stdout",
     "output_type": "stream",
     "text": [
      "Wrong Email 5\n"
     ]
    }
   ],
   "source": [
    "email = input(\"Enter your Email\") #minimum 6 charcter need for creating a gmail ID i.e - g@g.in , akshat.singh4u@gmail.com\n",
    "k,j,d=0,0,0\n",
    "if len(email)>=6: #1\n",
    "    if email[0].isalpha(): #2\n",
    "        if (\"@\" in email) and (email.count(\"@\")==1): #3\n",
    "            if (email[-4]==\".\") ^ (email[-3]==\".\"): #4\n",
    "                for i in email:\n",
    "                    if i ==i.isspace():\n",
    "                        k=1\n",
    "                    elif i.isalpha():\n",
    "                        if i==i.upper(): #w -- W==w\n",
    "                            j=1\n",
    "                    elif i.isdigit():\n",
    "                        continue\n",
    "                    elif i==\"_\" or i==\".\" or i==\"@\":\n",
    "                        continue\n",
    "                    else:\n",
    "                        d=1\n",
    "                if k==1 or j==1 or d==1:\n",
    "                    print(\"Wrong Email 5\")\n",
    "                else:\n",
    "                    print(\"Right Email\")\n",
    "            else:\n",
    "                print(\"Wrong Email 4\")\n",
    "        else:\n",
    "            print(\"Wrong Email 3\")\n",
    "    else:\n",
    "        print(\"Wrong Email 2\")\n",
    "else:\n",
    "    print(\"Wrong Email 1\")"
   ]
  },
  {
   "cell_type": "code",
   "execution_count": 8,
   "id": "756f2a57-c1ce-4746-9194-0e64d321abef",
   "metadata": {},
   "outputs": [
    {
     "name": "stdin",
     "output_type": "stream",
     "text": [
      "Enter your Email Akshat.singh4u@gmail.com\n"
     ]
    },
    {
     "name": "stdout",
     "output_type": "stream",
     "text": [
      "Wrong Email 5\n"
     ]
    }
   ],
   "source": [
    "email = input(\"Enter your Email\") #minimum 6 charcter need for creating a gmail ID i.e - g@g.in , akshat.singh4u@gmail.com\n",
    "k,j,d=0,0,0\n",
    "if len(email)>=6: #1\n",
    "    if email[0].isalpha(): #2\n",
    "        if (\"@\" in email) and (email.count(\"@\")==1): #3\n",
    "            if (email[-4]==\".\") ^ (email[-3]==\".\"): #4\n",
    "                for i in email:\n",
    "                    if i ==i.isspace():\n",
    "                        k=1\n",
    "                    elif i.isalpha():\n",
    "                        if i==i.upper(): #w -- W==w\n",
    "                            j=1\n",
    "                    elif i.isdigit():\n",
    "                        continue\n",
    "                    elif i==\"_\" or i==\".\" or i==\"@\":\n",
    "                        continue\n",
    "                    else:\n",
    "                        d=1\n",
    "                if k==1 or j==1 or d==1:\n",
    "                    print(\"Wrong Email 5\")\n",
    "                else:\n",
    "                    print(\"Right Email\")\n",
    "            else:\n",
    "                print(\"Wrong Email 4\")\n",
    "        else:\n",
    "            print(\"Wrong Email 3\")\n",
    "    else:\n",
    "        print(\"Wrong Email 2\")\n",
    "else:\n",
    "    print(\"Wrong Email 1\")"
   ]
  },
  {
   "cell_type": "code",
   "execution_count": 9,
   "id": "8894651d-43ef-4eed-bafa-0d09fba49e0d",
   "metadata": {},
   "outputs": [
    {
     "name": "stdin",
     "output_type": "stream",
     "text": [
      "Enter your Email akshat#singh4u@gmail.com\n"
     ]
    },
    {
     "name": "stdout",
     "output_type": "stream",
     "text": [
      "Wrong Email 5\n"
     ]
    }
   ],
   "source": [
    "email = input(\"Enter your Email\") #minimum 6 charcter need for creating a gmail ID i.e - g@g.in , akshat.singh4u@gmail.com\n",
    "k,j,d=0,0,0\n",
    "if len(email)>=6: #1\n",
    "    if email[0].isalpha(): #2\n",
    "        if (\"@\" in email) and (email.count(\"@\")==1): #3\n",
    "            if (email[-4]==\".\") ^ (email[-3]==\".\"): #4\n",
    "                for i in email:\n",
    "                    if i ==i.isspace():\n",
    "                        k=1\n",
    "                    elif i.isalpha():\n",
    "                        if i==i.upper(): #w -- W==w\n",
    "                            j=1\n",
    "                    elif i.isdigit():\n",
    "                        continue\n",
    "                    elif i==\"_\" or i==\".\" or i==\"@\":\n",
    "                        continue\n",
    "                    else:\n",
    "                        d=1\n",
    "                if k==1 or j==1 or d==1:\n",
    "                    print(\"Wrong Email 5\")\n",
    "                else:\n",
    "                    print(\"Right Email\")\n",
    "            else:\n",
    "                print(\"Wrong Email 4\")\n",
    "        else:\n",
    "            print(\"Wrong Email 3\")\n",
    "    else:\n",
    "        print(\"Wrong Email 2\")\n",
    "else:\n",
    "    print(\"Wrong Email 1\")"
   ]
  },
  {
   "cell_type": "code",
   "execution_count": 11,
   "id": "741544cc-ab05-4068-b021-e82b6e021e13",
   "metadata": {},
   "outputs": [
    {
     "name": "stdin",
     "output_type": "stream",
     "text": [
      "Enter your Email akshat.singh4u@gmail.com\n"
     ]
    },
    {
     "name": "stdout",
     "output_type": "stream",
     "text": [
      "Right Email\n"
     ]
    }
   ],
   "source": [
    "email = input(\"Enter your Email\") #minimum 6 charcter need for creating a gmail ID i.e - g@g.in , akshat.singh4u@gmail.com\n",
    "k,j,d=0,0,0\n",
    "if len(email)>=6: #1\n",
    "    if email[0].isalpha(): #2\n",
    "        if (\"@\" in email) and (email.count(\"@\")==1): #3\n",
    "            if (email[-4]==\".\") ^ (email[-3]==\".\"): #4\n",
    "                for i in email:\n",
    "                    if i ==i.isspace():\n",
    "                        k=1\n",
    "                    elif i.isalpha():\n",
    "                        if i==i.upper(): #w -- W==w\n",
    "                            j=1\n",
    "                    elif i.isdigit():\n",
    "                        continue\n",
    "                    elif i==\"_\" or i==\".\" or i==\"@\":\n",
    "                        continue\n",
    "                    else:\n",
    "                        d=1\n",
    "                if k==1 or j==1 or d==1:\n",
    "                    print(\"Wrong Email 5\")\n",
    "                else:\n",
    "                    print(\"Right Email\")\n",
    "            else:\n",
    "                print(\"Wrong Email 4\")\n",
    "        else:\n",
    "            print(\"Wrong Email 3\")\n",
    "    else:\n",
    "        print(\"Wrong Email 2\")\n",
    "else:\n",
    "    print(\"Wrong Email 1\")"
   ]
  },
  {
   "cell_type": "code",
   "execution_count": 12,
   "id": "66c0d57d-a0fe-43a0-9704-0e3d1b727e45",
   "metadata": {},
   "outputs": [
    {
     "name": "stdin",
     "output_type": "stream",
     "text": [
      "Enter your Email akshat_singh4u@gmail.com\n"
     ]
    },
    {
     "name": "stdout",
     "output_type": "stream",
     "text": [
      "Right Email\n"
     ]
    }
   ],
   "source": [
    "email = input(\"Enter your Email\") #minimum 6 charcter need for creating a gmail ID i.e - g@g.in , akshat.singh4u@gmail.com\n",
    "k,j,d=0,0,0\n",
    "if len(email)>=6: #1\n",
    "    if email[0].isalpha(): #2\n",
    "        if (\"@\" in email) and (email.count(\"@\")==1): #3\n",
    "            if (email[-4]==\".\") ^ (email[-3]==\".\"): #4\n",
    "                for i in email:\n",
    "                    if i ==i.isspace():\n",
    "                        k=1\n",
    "                    elif i.isalpha():\n",
    "                        if i==i.upper(): #w -- W==w\n",
    "                            j=1\n",
    "                    elif i.isdigit():\n",
    "                        continue\n",
    "                    elif i==\"_\" or i==\".\" or i==\"@\":\n",
    "                        continue\n",
    "                    else:\n",
    "                        d=1\n",
    "                if k==1 or j==1 or d==1:\n",
    "                    print(\"Wrong Email 5\")\n",
    "                else:\n",
    "                    print(\"Right Email\")\n",
    "            else:\n",
    "                print(\"Wrong Email 4\")\n",
    "        else:\n",
    "            print(\"Wrong Email 3\")\n",
    "    else:\n",
    "        print(\"Wrong Email 2\")\n",
    "else:\n",
    "    print(\"Wrong Email 1\")"
   ]
  },
  {
   "cell_type": "markdown",
   "id": "0fa16f5c-6b21-4279-ba49-67e0eb3b1ad5",
   "metadata": {},
   "source": [
    "# Email Validation in Python using RegEx"
   ]
  },
  {
   "cell_type": "code",
   "execution_count": 17,
   "id": "356ebd76-1300-493d-b15a-62e5ad32d9b8",
   "metadata": {},
   "outputs": [
    {
     "name": "stdin",
     "output_type": "stream",
     "text": [
      "Enter your Email:  aayan@singh@gmail.com\n"
     ]
    },
    {
     "name": "stdout",
     "output_type": "stream",
     "text": [
      "Wrong Email\n"
     ]
    }
   ],
   "source": [
    "#Conditions: a-z (small case), 0-9 (numbers), . _ @(only once), . (2,3)\n",
    "import re\n",
    "\n",
    "email_condition = r\"^[a-z]+([\\._][a-z0-9]+)*@([a-z0-9-]+\\.)+[a-z]{2,3}$\"\n",
    "user_email = input(\"Enter your Email: \").strip().lower()  # Convert to lowercase\n",
    "\n",
    "if re.fullmatch(email_condition, user_email):\n",
    "    print(\"Right Email\")\n",
    "else:\n",
    "    print(\"Wrong Email\")"
   ]
  }
 ],
 "metadata": {
  "kernelspec": {
   "display_name": "Python 3 (ipykernel)",
   "language": "python",
   "name": "python3"
  },
  "language_info": {
   "codemirror_mode": {
    "name": "ipython",
    "version": 3
   },
   "file_extension": ".py",
   "mimetype": "text/x-python",
   "name": "python",
   "nbconvert_exporter": "python",
   "pygments_lexer": "ipython3",
   "version": "3.12.7"
  }
 },
 "nbformat": 4,
 "nbformat_minor": 5
}
