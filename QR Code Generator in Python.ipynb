{
 "cells": [
  {
   "cell_type": "markdown",
   "id": "b6f46752-5dab-4f47-b749-d6e7d2fa2240",
   "metadata": {},
   "source": [
    "# QR Code Generator in Python"
   ]
  },
  {
   "cell_type": "code",
   "execution_count": 1,
   "id": "eebb555b-11c2-4c8c-91e6-4ce4ff3296e0",
   "metadata": {},
   "outputs": [
    {
     "name": "stdout",
     "output_type": "stream",
     "text": [
      "Defaulting to user installation because normal site-packages is not writeable\n",
      "Requirement already satisfied: qrcode[pil] in c:\\users\\dell\\appdata\\roaming\\python\\python312\\site-packages (8.0)\n",
      "Requirement already satisfied: colorama in c:\\programdata\\anaconda3\\lib\\site-packages (from qrcode[pil]) (0.4.6)\n",
      "Requirement already satisfied: pillow>=9.1.0 in c:\\programdata\\anaconda3\\lib\\site-packages (from qrcode[pil]) (10.4.0)\n"
     ]
    }
   ],
   "source": [
    "!pip install qrcode[pil]"
   ]
  },
  {
   "cell_type": "code",
   "execution_count": 2,
   "id": "93dd68a3-84a2-44c0-800a-faa71c1a60b8",
   "metadata": {},
   "outputs": [
    {
     "name": "stdout",
     "output_type": "stream",
     "text": [
      "QR Code library is installed and ready to use!\n"
     ]
    }
   ],
   "source": [
    "import qrcode\n",
    "print(\"QR Code library is installed and ready to use!\")"
   ]
  },
  {
   "cell_type": "code",
   "execution_count": 3,
   "id": "4f9d12f8-686f-433d-98b7-3421bb8aadf9",
   "metadata": {},
   "outputs": [],
   "source": [
    "import qrcode as qr\n",
    "img = qr.make(\"https://www.youtube.com/@akshatsingh4420\")\n",
    "img.save(\"akshat_youtube.png\")"
   ]
  },
  {
   "cell_type": "markdown",
   "id": "a848243d-bec9-4a1f-9791-bfe782c7e3db",
   "metadata": {},
   "source": [
    "# QR Code for Linkedin Profile"
   ]
  },
  {
   "cell_type": "code",
   "execution_count": 4,
   "id": "1736aeea-a10b-4342-9ebf-9050e6de2a29",
   "metadata": {},
   "outputs": [],
   "source": [
    "import qrcode\n",
    "from PIL import Image\n",
    "\n",
    "qr=qrcode.QRCode(version=1,\n",
    "                error_correction=qrcode.constants.ERROR_CORRECT_H,\n",
    "                box_size=10,border=4)\n",
    "qr.add_data(\"https://www.linkedin.com/in/prahalad-singh-824b7370/\")\n",
    "qr.make(fit=True)\n",
    "img=qr.make_image(fill_color=\"red\",back_color=\"blue\")\n",
    "img.save(\"prahalad_linkedin.png\")"
   ]
  },
  {
   "cell_type": "code",
   "execution_count": null,
   "id": "975d5b23-3cb3-48d4-9ce2-a2ca19dc7edd",
   "metadata": {},
   "outputs": [],
   "source": []
  }
 ],
 "metadata": {
  "kernelspec": {
   "display_name": "Python 3 (ipykernel)",
   "language": "python",
   "name": "python3"
  },
  "language_info": {
   "codemirror_mode": {
    "name": "ipython",
    "version": 3
   },
   "file_extension": ".py",
   "mimetype": "text/x-python",
   "name": "python",
   "nbconvert_exporter": "python",
   "pygments_lexer": "ipython3",
   "version": "3.12.7"
  }
 },
 "nbformat": 4,
 "nbformat_minor": 5
}
