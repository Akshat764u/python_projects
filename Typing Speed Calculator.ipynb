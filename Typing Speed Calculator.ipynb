{
 "cells": [
  {
   "cell_type": "markdown",
   "id": "5d7d2546-a52c-4361-a32a-9e7931f28421",
   "metadata": {},
   "source": [
    "# Typing Speed Calculator"
   ]
  },
  {
   "cell_type": "code",
   "execution_count": 4,
   "id": "2c8a0a0f-4074-4333-8832-222ba0e082d8",
   "metadata": {},
   "outputs": [
    {
     "name": "stdout",
     "output_type": "stream",
     "text": [
      "    ***** Typing Speed *****\n",
      "A paragraph is a self contained unit of discourse in writing dealing with a particular point or idea.\n",
      "\n",
      "\n"
     ]
    },
    {
     "name": "stdin",
     "output_type": "stream",
     "text": [
      "Enter :  A paragraph is a self contained unit of discourse in writing dealing with a particular point or idea.\n"
     ]
    },
    {
     "name": "stdout",
     "output_type": "stream",
     "text": [
      "Speed :  3 w/sec\n",
      "Error :  0\n"
     ]
    }
   ],
   "source": [
    "# Importing Required Modules\n",
    "from time import *\n",
    "import random as r\n",
    "\n",
    "# Function to Calculate Typing Errors\n",
    "def mistake(paratest, usertest):\n",
    "    error = 0\n",
    "    for i in range(len(paratest)):\n",
    "        try:\n",
    "            if paratest[i] != usertest[i]:\n",
    "                error = error+1\n",
    "        except:\n",
    "            error = error+1\n",
    "    return error\n",
    "\n",
    "# Function to Calculate Typing Speed\n",
    "def speed_time(time_s, time_e, userinput):\n",
    "    time_delay = time_e - time_s\n",
    "    time_R = round(time_delay, 2)\n",
    "    speed = len(userinput)/time_R\n",
    "    return round(speed)\n",
    "\n",
    "# Test Paragraphs Collection\n",
    "test = [\"A paragraph is a self contained unit of discourse in writing dealing with a particular point or idea.\",\n",
    "        \"My name is a Prahalad Singh.\",\n",
    "        \"Welcome to world of Data Science West Bengal.\"]\n",
    "\n",
    "# Random Paragraph Selection\n",
    "test1 = r.choice(test)\n",
    "\n",
    "# Display Program Header\n",
    "print(\"    ***** Typing Speed *****\")\n",
    "print(test1)\n",
    "print()\n",
    "print()\n",
    "\n",
    "# Recording Start Time and User Input\n",
    "time_1 = time()\n",
    "testinput = input(\"Enter : \")\n",
    "time_2 = time()\n",
    "\n",
    "# Calculating and Displaying Results\n",
    "print(\"Speed : \", speed_time(time_1, time_2, testinput), \"w/sec\")\n",
    "print(\"Error : \", mistake(test1, testinput))"
   ]
  },
  {
   "cell_type": "code",
   "execution_count": null,
   "id": "2d898d08-a684-4384-8ec5-47e65510a8bf",
   "metadata": {},
   "outputs": [],
   "source": []
  }
 ],
 "metadata": {
  "kernelspec": {
   "display_name": "Python 3 (ipykernel)",
   "language": "python",
   "name": "python3"
  },
  "language_info": {
   "codemirror_mode": {
    "name": "ipython",
    "version": 3
   },
   "file_extension": ".py",
   "mimetype": "text/x-python",
   "name": "python",
   "nbconvert_exporter": "python",
   "pygments_lexer": "ipython3",
   "version": "3.12.7"
  }
 },
 "nbformat": 4,
 "nbformat_minor": 5
}
